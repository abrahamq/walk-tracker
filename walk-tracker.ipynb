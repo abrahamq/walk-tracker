{
 "cells": [
  {
   "cell_type": "code",
   "execution_count": 15,
   "metadata": {},
   "outputs": [],
   "source": [
    "import os\n",
    "from dotenv import load_dotenv\n",
    "\n",
    "from stravaio import strava_oauth2\n",
    "from stravaio import StravaIO\n",
    "\n",
    "\n",
    "load_dotenv()\n",
    "\n",
    "# run this to get a browser w/ oauth flow\n",
    "STRAVA_CLIENT_ID = os.environ['STRAVA_CLIENT_ID']\n",
    "STRAVA_CLIENT_SECRET= os.environ['STRAVA_CLIENT_SECRET']\n",
    "STRAVA_ACCESS_TOKEN= os.environ['STRAVA_ACCESS_TOKEN']\n",
    "\n",
    "# go to https://www.strava.com/oauth/authorize?client_id=[clientId]&response_type=code&redirect_uri=http://localhost/exchange_token&approval_prompt=force&scope=read_all\n",
    "# replace clientId, see the code in the query params of the url, that's the short lived access token\n",
    "# then post to get the oath token: \n",
    "# curl -X POST https://www.strava.com/api/v3/oauth/token \\\n",
    "#           -d client_id=ReplaceWithClientID \\\n",
    "#             -d client_secret=ReplaceWithClientSecret \\\n",
    "#               -d code=ReplaceWithCode \\\n",
    "#                 -d grant_type=authorization_code\n",
    "# OR:\n",
    "# ret = strava_oauth2(client_id=STRAVA_CLIENT_ID, client_secret=STRAVA_CLIENT_SECRET)\n",
    "\n",
    "client = StravaIO(access_token=STRAVA_ACCESS_TOKEN)\n"
   ]
  },
  {
   "cell_type": "code",
   "execution_count": 29,
   "metadata": {},
   "outputs": [
    {
     "data": {
      "application/vnd.jupyter.widget-view+json": {
       "model_id": "3ffed3be46dd4dea9d7dfde81971fe33",
       "version_major": 2,
       "version_minor": 0
      },
      "text/plain": [
       "Map(center=[42.3989, -71.1204], controls=(ZoomControl(options=['position', 'zoom_in_text', 'zoom_in_title', 'z…"
      ]
     },
     "metadata": {},
     "output_type": "display_data"
    }
   ],
   "source": [
    "from ipyleaflet import Map, GeoJSON, basemaps, Polyline\n",
    "import json\n",
    "import polyline as pl\n",
    "\n",
    "basemap = dict(\n",
    "    url='https://server.arcgisonline.com/ArcGIS/rest/services/Canvas/World_Light_Gray_Base/MapServer/tile/{z}/{y}/{x}',\n",
    "    max_zoom=16,\n",
    "    attribution= 'Tiles &copy; Esri &mdash; Esri, DeLorme, NAVTEQ',\n",
    "    name='Esri.WorldGreyCanvas'\n",
    ")\n",
    "m = Map(center=(42.3989, -71.1204), zoom=14, basemap=basemap)\n",
    "\n",
    "activities = client.local_activities(athlete_id=73427769) # athlete['id'])\n",
    "lines = []\n",
    "for activity in activities: \n",
    "    # print(activity)\n",
    "    # print(activity['map']['polyline'])\n",
    "    line = pl.decode(activity['map']['polyline'])\n",
    "    lines.append(line)\n",
    "\n",
    "m.add_layer(Polyline(\n",
    "    locations=lines,\n",
    "    fill=False\n",
    "))\n",
    "\n",
    "\n",
    "m\n",
    "\n"
   ]
  },
  {
   "cell_type": "code",
   "execution_count": 18,
   "metadata": {},
   "outputs": [
    {
     "ename": "SyntaxError",
     "evalue": "'yield' outside function (<ipython-input-18-655e40ac7d3b>, line 1)",
     "output_type": "error",
     "traceback": [
      "\u001b[0;36m  File \u001b[0;32m\"<ipython-input-18-655e40ac7d3b>\"\u001b[0;36m, line \u001b[0;32m1\u001b[0m\n\u001b[0;31m    yield activities\u001b[0m\n\u001b[0m    ^\u001b[0m\n\u001b[0;31mSyntaxError\u001b[0m\u001b[0;31m:\u001b[0m 'yield' outside function\n"
     ]
    }
   ],
   "source": []
  }
 ],
 "metadata": {
  "kernelspec": {
   "display_name": "Python 3",
   "language": "python",
   "name": "python3"
  },
  "language_info": {
   "codemirror_mode": {
    "name": "ipython",
    "version": 3
   },
   "file_extension": ".py",
   "mimetype": "text/x-python",
   "name": "python",
   "nbconvert_exporter": "python",
   "pygments_lexer": "ipython3",
   "version": "3.8.6"
  }
 },
 "nbformat": 4,
 "nbformat_minor": 4
}
